{
 "cells": [
  {
   "cell_type": "code",
   "execution_count": 33,
   "id": "9cf35605",
   "metadata": {},
   "outputs": [],
   "source": [
    "import h5py as h5\n",
    "import netCDF4 as nc\n",
    "import numpy as np\n",
    "from PIL import Image\n",
    "import matplotlib.pyplot as plt\n",
    "import os\n",
    "import time\n",
    "import cv2\n",
    "import csv\n",
    "from global_land_mask import globe \n",
    "import glob\n",
    "import math\n",
    "from tqdm import tqdm\n",
    "import re\n",
    "import seaborn as sns\n"
   ]
  },
  {
   "cell_type": "code",
   "execution_count": null,
   "id": "df3c0b18",
   "metadata": {},
   "outputs": [],
   "source": []
  },
  {
   "cell_type": "code",
   "execution_count": 34,
   "id": "370a6c52",
   "metadata": {},
   "outputs": [],
   "source": [
    "goci_sample = '/home/ubuntu/문서/AY_ust/chl_sample/goci1/COMS_GOCI_L2A_GA_20130107001641.CHL.he5'\n",
    "\n",
    "f = h5.File(goci_sample,'r+')\n",
    "a = f['HDFEOS']['GRIDS']['Image Data']['Data Fields']['CHL Image Pixel Values']\n",
    "a = list(a)\n",
    "np_a = np.array(a)\n",
    "np_a = np.where(np_a==-999.0, 0, np_a)\n",
    "dst = np_a"
   ]
  },
  {
   "cell_type": "code",
   "execution_count": 35,
   "id": "7fbb2055",
   "metadata": {},
   "outputs": [
    {
     "data": {
      "text/plain": [
       "(5685, 5567)"
      ]
     },
     "execution_count": 35,
     "metadata": {},
     "output_type": "execute_result"
    }
   ],
   "source": [
    "dst.shape"
   ]
  },
  {
   "cell_type": "code",
   "execution_count": 36,
   "id": "b0681e48",
   "metadata": {},
   "outputs": [],
   "source": [
    "ust_sample = '/media/ubuntu/My Book/UST21/Daily/2014/01/UST21_L3_Merged-Chla-1D_20140104.nc'\n",
    "f = nc.Dataset(ust_sample,'r')\n",
    "a = f['merged_daily_Chl'][:].data\n",
    "np_a = np.array(a)"
   ]
  },
  {
   "cell_type": "code",
   "execution_count": 37,
   "id": "26e45129",
   "metadata": {},
   "outputs": [
    {
     "data": {
      "text/plain": [
       "(8000, 10500)"
      ]
     },
     "execution_count": 37,
     "metadata": {},
     "output_type": "execute_result"
    }
   ],
   "source": [
    "np_a.shape"
   ]
  },
  {
   "cell_type": "code",
   "execution_count": 45,
   "id": "e8822d2e",
   "metadata": {},
   "outputs": [
    {
     "data": {
      "text/plain": [
       "(2780, 2780)"
      ]
     },
     "execution_count": 45,
     "metadata": {},
     "output_type": "execute_result"
    }
   ],
   "source": [
    "goci2_sample = '/home/ubuntu/문서/AY_ust/chl_sample/goci2/GK2_GC2_L2_20210301_011530/GK2B_GOCI2_L2_20210301_011530_LA_S000_Chl.nc'\n",
    "f = nc.Dataset(goci2_sample,'r')\n",
    "a= f['geophysical_data']['Chl'][:].data\n",
    "np_a = np.array(a)\n",
    "np_a = np.where(np_a==-999.0, 0, np_a)\n",
    "np_a.shape"
   ]
  },
  {
   "cell_type": "code",
   "execution_count": 49,
   "id": "4867c7c2",
   "metadata": {},
   "outputs": [
    {
     "data": {
      "text/plain": [
       "array([[1., 1., 1., ..., 1., 1., 1.],\n",
       "       [1., 1., 1., ..., 1., 1., 1.],\n",
       "       [1., 1., 1., ..., 1., 1., 1.],\n",
       "       ...,\n",
       "       [1., 1., 1., ..., 1., 1., 1.],\n",
       "       [1., 1., 1., ..., 1., 1., 1.],\n",
       "       [1., 1., 1., ..., 1., 1., 1.]])"
      ]
     },
     "execution_count": 49,
     "metadata": {},
     "output_type": "execute_result"
    }
   ],
   "source": [
    "from scipy import io\n",
    "mat_file = io.loadmat('/home/ubuntu/문서/AY_ust/preprocessing/Land_mask/Land_mask.mat')\n"
   ]
  },
  {
   "cell_type": "code",
   "execution_count": 50,
   "id": "d5cbd229",
   "metadata": {},
   "outputs": [],
   "source": [
    "land_mask = mat_file['Land']"
   ]
  },
  {
   "cell_type": "code",
   "execution_count": 51,
   "id": "0fc5ff42",
   "metadata": {},
   "outputs": [
    {
     "data": {
      "text/plain": [
       "(8000, 10500)"
      ]
     },
     "execution_count": 51,
     "metadata": {},
     "output_type": "execute_result"
    }
   ],
   "source": [
    "land_mask.shape"
   ]
  },
  {
   "cell_type": "code",
   "execution_count": null,
   "id": "c30af0e8",
   "metadata": {},
   "outputs": [],
   "source": []
  }
 ],
 "metadata": {
  "kernelspec": {
   "display_name": "Python 3",
   "language": "python",
   "name": "python3"
  },
  "language_info": {
   "codemirror_mode": {
    "name": "ipython",
    "version": 3
   },
   "file_extension": ".py",
   "mimetype": "text/x-python",
   "name": "python",
   "nbconvert_exporter": "python",
   "pygments_lexer": "ipython3",
   "version": "3.6.9"
  }
 },
 "nbformat": 4,
 "nbformat_minor": 5
}
