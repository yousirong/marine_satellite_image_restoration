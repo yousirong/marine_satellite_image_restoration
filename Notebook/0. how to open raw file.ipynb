{
 "cells": [
  {
   "cell_type": "code",
   "execution_count": 1,
   "id": "9cf35605",
   "metadata": {},
   "outputs": [],
   "source": [
    "import h5py as h5\n",
    "import netCDF4 as nc\n",
    "import numpy as np\n",
    "from PIL import Image\n",
    "import matplotlib.pyplot as plt\n",
    "import os\n",
    "import time\n",
    "import cv2\n",
    "import csv\n",
    "from global_land_mask import globe \n",
    "import glob\n",
    "import math\n",
    "from tqdm import tqdm\n",
    "import re\n",
    "import seaborn as sns\n"
   ]
  },
  {
   "cell_type": "code",
   "execution_count": 6,
   "id": "4867c7c2",
   "metadata": {},
   "outputs": [
    {
     "data": {
      "text/plain": [
       "(8000, 10500)"
      ]
     },
     "execution_count": 6,
     "metadata": {},
     "output_type": "execute_result"
    }
   ],
   "source": [
    "from scipy import io\n",
    "mat_file = io.loadmat('/home/juneyonglee/Desktop/AY_ust/preprocessing/Land_mask/Land_mask.mat')\n",
    "land_mask = mat_file['Land']\n",
    "\n",
    "land_mask.shape"
   ]
  },
  {
   "cell_type": "code",
   "execution_count": 10,
   "id": "c59e6e97",
   "metadata": {},
   "outputs": [
    {
     "name": "stdout",
     "output_type": "stream",
     "text": [
      "File opened successfully with h5py.\n",
      "File keys:  ['chlor_a', 'eightbitcolor', 'lat', 'lon', 'palette', 'processing_control', 'rgb']\n",
      "Dataset 'chlor_a' shape: (4320, 8640)\n",
      "Dataset 'chlor_a' data type: float32\n"
     ]
    }
   ],
   "source": [
    "import h5py\n",
    "\n",
    "def check_with_h5py(file_path):\n",
    "    try:\n",
    "        with h5py.File(file_path, 'r') as f:\n",
    "            print(\"File opened successfully with h5py.\")\n",
    "            # 파일 내부의 키(데이터셋 구조) 출력\n",
    "            print(\"File keys: \", list(f.keys()))\n",
    "            # 필요한 경우 첫 번째 데이터셋의 세부 정보 확인\n",
    "            first_key = list(f.keys())[0]\n",
    "            dataset = f[first_key]\n",
    "            print(f\"Dataset '{first_key}' shape: {dataset.shape}\")\n",
    "            print(f\"Dataset '{first_key}' data type: {dataset.dtype}\")\n",
    "    except OSError as e:\n",
    "        print(f\"Failed to open file with h5py: {e}\")\n",
    "\n",
    "# h5py로 파일 열기 시도\n",
    "file_path = '/home/juneyonglee/Downloads/AQUA_MODIS.20140813_20140820.L3m.8D.CHL.chlor_a.4km.nc'\n",
    "check_with_h5py(file_path)\n"
   ]
  },
  {
   "cell_type": "code",
   "execution_count": null,
   "id": "f7cecd42",
   "metadata": {},
   "outputs": [],
   "source": [
    "def lat_lon_to_ust21_pixel(lat, lon, lat_min, lat_max, lon_min, lon_max):\n",
    "    \"\"\"\n",
    "    Convert latitude and longitude to pixel coordinates in UST21 (8000x10500) grid.\n",
    "    lat_min, lat_max: Latitude range of UST21 dataset\n",
    "    lon_min, lon_max: Longitude range of UST21 dataset\n",
    "    \"\"\"\n",
    "    y_pixel = int((lat_max - lat) / (lat_max - lat_min) * 8000)  # Latitude to y-pixel\n",
    "    x_pixel = int((lon - lon_min) / (lon_max - lon_min) * 10500)  # Longitude to x-pixel\n",
    "    return y_pixel, x_pixel\n"
   ]
  },
  {
   "cell_type": "code",
   "execution_count": null,
   "id": "e9720b88",
   "metadata": {},
   "outputs": [],
   "source": []
  }
 ],
 "metadata": {
  "kernelspec": {
   "display_name": "Python 3",
   "language": "python",
   "name": "python3"
  },
  "language_info": {
   "codemirror_mode": {
    "name": "ipython",
    "version": 3
   },
   "file_extension": ".py",
   "mimetype": "text/x-python",
   "name": "python",
   "nbconvert_exporter": "python",
   "pygments_lexer": "ipython3",
   "version": "3.9.19"
  }
 },
 "nbformat": 4,
 "nbformat_minor": 5
}
