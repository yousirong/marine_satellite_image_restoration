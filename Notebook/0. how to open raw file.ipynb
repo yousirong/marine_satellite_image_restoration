{
 "cells": [
  {
   "cell_type": "code",
   "execution_count": 1,
   "id": "9cf35605",
   "metadata": {},
   "outputs": [],
   "source": [
    "import h5py as h5\n",
    "import netCDF4 as nc\n",
    "import numpy as np\n",
    "from PIL import Image\n",
    "import matplotlib.pyplot as plt\n",
    "import os\n",
    "import time\n",
    "import cv2\n",
    "import csv\n",
    "from global_land_mask import globe \n",
    "import glob\n",
    "import math\n",
    "from tqdm import tqdm\n",
    "import re\n",
    "import seaborn as sns\n"
   ]
  },
  {
   "cell_type": "code",
   "execution_count": 34,
   "id": "370a6c52",
   "metadata": {},
   "outputs": [],
   "source": [
    "goci_sample = '/home/ubuntu/문서/AY_ust/chl_sample/goci1/COMS_GOCI_L2A_GA_20130107001641.CHL.he5'\n",
    "\n",
    "f = h5.File(goci_sample,'r+')\n",
    "a = f['HDFEOS']['GRIDS']['Image Data']['Data Fields']['CHL Image Pixel Values']\n",
    "a = list(a)\n",
    "np_a = np.array(a)\n",
    "np_a = np.where(np_a==-999.0, 0, np_a)\n",
    "dst = np_a"
   ]
  },
  {
   "cell_type": "code",
   "execution_count": 35,
   "id": "7fbb2055",
   "metadata": {},
   "outputs": [
    {
     "data": {
      "text/plain": [
       "(5685, 5567)"
      ]
     },
     "execution_count": 35,
     "metadata": {},
     "output_type": "execute_result"
    }
   ],
   "source": [
    "dst.shape"
   ]
  },
  {
   "cell_type": "code",
   "execution_count": 1,
   "id": "b0681e48",
   "metadata": {},
   "outputs": [
    {
     "ename": "NameError",
     "evalue": "name 'nc' is not defined",
     "output_type": "error",
     "traceback": [
      "\u001b[0;31m---------------------------------------------------------------------------\u001b[0m",
      "\u001b[0;31mNameError\u001b[0m                                 Traceback (most recent call last)",
      "Cell \u001b[0;32mIn[1], line 2\u001b[0m\n\u001b[1;32m      1\u001b[0m ust_sample \u001b[38;5;241m=\u001b[39m \u001b[38;5;124m'\u001b[39m\u001b[38;5;124m/media/juneyonglee/My Book/Preprocessed/UST/Chl-a_8day/train/90/2012_01_20_sae.tiff\u001b[39m\u001b[38;5;124m'\u001b[39m\n\u001b[0;32m----> 2\u001b[0m f \u001b[38;5;241m=\u001b[39m \u001b[43mnc\u001b[49m\u001b[38;5;241m.\u001b[39mDataset(ust_sample,\u001b[38;5;124m'\u001b[39m\u001b[38;5;124mr\u001b[39m\u001b[38;5;124m'\u001b[39m)\n\u001b[1;32m      3\u001b[0m a \u001b[38;5;241m=\u001b[39m f[\u001b[38;5;124m'\u001b[39m\u001b[38;5;124mmerged_daily_Chl\u001b[39m\u001b[38;5;124m'\u001b[39m][:]\u001b[38;5;241m.\u001b[39mdata\n\u001b[1;32m      4\u001b[0m np_a \u001b[38;5;241m=\u001b[39m np\u001b[38;5;241m.\u001b[39marray(a)\n",
      "\u001b[0;31mNameError\u001b[0m: name 'nc' is not defined"
     ]
    }
   ],
   "source": [
    "ust_sample = '/media/juneyonglee/My Book/Preprocessed/UST/Chl-a_8day/train/90/2012_01_20_sae.tiff'\n",
    "f = nc.Dataset(ust_sample,'r')\n",
    "a = f['merged_daily_Chl'][:].data\n",
    "np_a = np.array(a)"
   ]
  },
  {
   "cell_type": "code",
   "execution_count": 37,
   "id": "26e45129",
   "metadata": {},
   "outputs": [
    {
     "data": {
      "text/plain": [
       "(8000, 10500)"
      ]
     },
     "execution_count": 37,
     "metadata": {},
     "output_type": "execute_result"
    }
   ],
   "source": [
    "np_a.shape"
   ]
  },
  {
   "cell_type": "code",
   "execution_count": 45,
   "id": "e8822d2e",
   "metadata": {},
   "outputs": [
    {
     "data": {
      "text/plain": [
       "(2780, 2780)"
      ]
     },
     "execution_count": 45,
     "metadata": {},
     "output_type": "execute_result"
    }
   ],
   "source": [
    "goci2_sample = '/home/ubuntu/문서/AY_ust/chl_sample/goci2/GK2_GC2_L2_20210301_011530/GK2B_GOCI2_L2_20210301_011530_LA_S000_Chl.nc'\n",
    "f = nc.Dataset(goci2_sample,'r')\n",
    "a= f['geophysical_data']['Chl'][:].data\n",
    "np_a = np.array(a)\n",
    "np_a = np.where(np_a==-999.0, 0, np_a)\n",
    "np_a.shape"
   ]
  },
  {
   "cell_type": "code",
   "execution_count": 7,
   "id": "4867c7c2",
   "metadata": {},
   "outputs": [
    {
     "data": {
      "text/plain": [
       "(8000, 10500)"
      ]
     },
     "execution_count": 7,
     "metadata": {},
     "output_type": "execute_result"
    }
   ],
   "source": [
    "from scipy import io\n",
    "mat_file = io.loadmat('/home/juneyonglee/Desktop/AY_ust/preprocessing/Land_mask/Land_mask.mat')\n",
    "land_mask = mat_file['Land']\n",
    "\n",
    "land_mask.shape"
   ]
  }
 ],
 "metadata": {
  "kernelspec": {
   "display_name": "Python 3",
   "language": "python",
   "name": "python3"
  },
  "language_info": {
   "codemirror_mode": {
    "name": "ipython",
    "version": 3
   },
   "file_extension": ".py",
   "mimetype": "text/x-python",
   "name": "python",
   "nbconvert_exporter": "python",
   "pygments_lexer": "ipython3",
   "version": "3.9.19"
  }
 },
 "nbformat": 4,
 "nbformat_minor": 5
}
