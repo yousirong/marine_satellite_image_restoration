{
 "cells": [
  {
   "cell_type": "code",
   "execution_count": null,
   "id": "4e465b36",
   "metadata": {},
   "outputs": [],
   "source": [
    "import h5py as h5\n",
    "import netCDF4 as nc\n",
    "import numpy as np\n",
    "from PIL import Image\n",
    "import matplotlib.pyplot as plt\n",
    "import os\n",
    "import time\n",
    "import cv2\n",
    "import csv\n",
    "from global_land_mask import globe\n",
    "import glob\n",
    "import math\n",
    "from tqdm import tqdm\n",
    "import re\n",
    "import seaborn as sns\n"
   ]
  },
  {
   "cell_type": "code",
   "execution_count": 3,
   "id": "08521e33",
   "metadata": {},
   "outputs": [],
   "source": [
    "goci_sample = '/home/ubuntu/문서/AY_ust/chl_sample/goci1/COMS_GOCI_L2A_GA_20130107001641.CHL.he5'\n",
    "\n",
    "f = h5.File(goci_sample,'r+')\n",
    "a = f['HDFEOS']['GRIDS']['Image Data']['Data Fields']['CHL Image Pixel Values']\n",
    "a = list(a)\n",
    "np_a = np.array(a)\n",
    "np_a = np.where(np_a==-999.0, 0, np_a)\n",
    "dst = np_a"
   ]
  },
  {
   "cell_type": "code",
   "execution_count": 5,
   "id": "76107e79",
   "metadata": {},
   "outputs": [
    {
     "data": {
      "text/plain": [
       "(5685, 5567)"
      ]
     },
     "execution_count": 5,
     "metadata": {},
     "output_type": "execute_result"
    }
   ],
   "source": [
    "dst.shape"
   ]
  },
  {
   "cell_type": "code",
   "execution_count": 21,
   "id": "4cd9b0d8",
   "metadata": {},
   "outputs": [],
   "source": [
    "ust_sample = '/media/ubuntu/My Book/UST21/Daily/2014/01/UST21_L3_Merged-Chla-1D_20140104.nc'\n",
    "f = nc.Dataset(ust_sample,'r')\n",
    "a = f['merged_daily_Chl'][:].data\n",
    "np_a = np.array(a)"
   ]
  },
  {
   "cell_type": "code",
   "execution_count": 14,
   "id": "b4b7d231",
   "metadata": {},
   "outputs": [
    {
     "data": {
      "text/plain": [
       "(8000, 10500)"
      ]
     },
     "execution_count": 14,
     "metadata": {},
     "output_type": "execute_result"
    }
   ],
   "source": [
    "np_a.shape"
   ]
  },
  {
   "cell_type": "code",
   "execution_count": 16,
   "id": "62e7400e",
   "metadata": {},
   "outputs": [
    {
     "ename": "IndexError",
     "evalue": "merged_daily_Chl not found in /",
     "output_type": "error",
     "traceback": [
      "\u001b[0;31m---------------------------------------------------------------------------\u001b[0m",
      "\u001b[0;31mIndexError\u001b[0m                                Traceback (most recent call last)",
      "\u001b[0;32m<ipython-input-16-9d06d6cb1bb8>\u001b[0m in \u001b[0;36m<module>\u001b[0;34m\u001b[0m\n\u001b[1;32m      1\u001b[0m \u001b[0mgoci2_sample\u001b[0m \u001b[0;34m=\u001b[0m \u001b[0;34m'/home/ubuntu/문서/AY_ust/chl_sample/goci2/GK2_GC2_L2_20210301_011530/GK2B_GOCI2_L2_20210301_011530_LA_S000_Chl.nc'\u001b[0m\u001b[0;34m\u001b[0m\u001b[0;34m\u001b[0m\u001b[0m\n\u001b[1;32m      2\u001b[0m \u001b[0mf\u001b[0m \u001b[0;34m=\u001b[0m \u001b[0mnc\u001b[0m\u001b[0;34m.\u001b[0m\u001b[0mDataset\u001b[0m\u001b[0;34m(\u001b[0m\u001b[0mgoci2_sample\u001b[0m\u001b[0;34m,\u001b[0m\u001b[0;34m'r'\u001b[0m\u001b[0;34m)\u001b[0m\u001b[0;34m\u001b[0m\u001b[0;34m\u001b[0m\u001b[0m\n\u001b[0;32m----> 3\u001b[0;31m \u001b[0ma\u001b[0m \u001b[0;34m=\u001b[0m \u001b[0mf\u001b[0m\u001b[0;34m[\u001b[0m\u001b[0;34m'merged_daily_Chl'\u001b[0m\u001b[0;34m]\u001b[0m\u001b[0;34m[\u001b[0m\u001b[0;34m:\u001b[0m\u001b[0;34m]\u001b[0m\u001b[0;34m.\u001b[0m\u001b[0mdata\u001b[0m\u001b[0;34m\u001b[0m\u001b[0;34m\u001b[0m\u001b[0m\n\u001b[0m\u001b[1;32m      4\u001b[0m \u001b[0mnp_a\u001b[0m \u001b[0;34m=\u001b[0m \u001b[0mnp\u001b[0m\u001b[0;34m.\u001b[0m\u001b[0marray\u001b[0m\u001b[0;34m(\u001b[0m\u001b[0ma\u001b[0m\u001b[0;34m)\u001b[0m\u001b[0;34m\u001b[0m\u001b[0;34m\u001b[0m\u001b[0m\n",
      "\u001b[0;32msrc/netCDF4/_netCDF4.pyx\u001b[0m in \u001b[0;36mnetCDF4._netCDF4.Dataset.__getitem__\u001b[0;34m()\u001b[0m\n",
      "\u001b[0;31mIndexError\u001b[0m: merged_daily_Chl not found in /"
     ]
    }
   ],
   "source": [
    "goci2_sample = '/home/ubuntu/문서/AY_ust/chl_sample/goci2/GK2_GC2_L2_20210301_011530/GK2B_GOCI2_L2_20210301_011530_LA_S000_Chl.nc'\n",
    "f = nc.Dataset(goci2_sample,'r')\n",
    "a = f['merged_daily_Chl'][:].data\n",
    "np_a = np.array(a)"
   ]
  }
 ],
 "metadata": {
  "kernelspec": {
   "display_name": "Python 3",
   "language": "python",
   "name": "python3"
  },
  "language_info": {
   "codemirror_mode": {
    "name": "ipython",
    "version": 3
   },
   "file_extension": ".py",
   "mimetype": "text/x-python",
   "name": "python",
   "nbconvert_exporter": "python",
   "pygments_lexer": "ipython3",
   "version": "3.6.9"
  }
 },
 "nbformat": 4,
 "nbformat_minor": 5
}
